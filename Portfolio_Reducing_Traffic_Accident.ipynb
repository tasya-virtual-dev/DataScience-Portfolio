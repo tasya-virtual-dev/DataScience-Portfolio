{
  "nbformat": 4,
  "nbformat_minor": 0,
  "metadata": {
    "language_info": {
      "name": "python",
      "pygments_lexer": "ipython3",
      "version": "3.5.2",
      "mimetype": "text/x-python",
      "file_extension": ".py",
      "nbconvert_exporter": "python",
      "codemirror_mode": {
        "name": "ipython",
        "version": 3
      }
    },
    "kernelspec": {
      "name": "python3",
      "language": "python",
      "display_name": "Python 3"
    },
    "colab": {
      "name": "Portfolio - Reducing Traffic Accident.ipynb",
      "provenance": []
    }
  },
  "cells": [
    {
      "cell_type": "markdown",
      "metadata": {
        "editable": false,
        "deletable": false,
        "dc": {
          "key": "10"
        },
        "tags": [
          "context"
        ],
        "run_control": {
          "frozen": true
        },
        "id": "atkeQ51U8aPQ",
        "colab_type": "text"
      },
      "source": [
        "## Explore Data"
      ]
    },
    {
      "cell_type": "code",
      "metadata": {
        "trusted": true,
        "dc": {
          "key": "10"
        },
        "tags": [
          "sample_code"
        ],
        "id": "WVYq3-GZ8aPS",
        "colab_type": "code",
        "outputId": "eda00989-24d9-4217-a313-cbd5074630a2",
        "colab": {
          "base_uri": "https://localhost:8080/",
          "height": 414
        }
      },
      "source": [
        "import pandas as pd\n",
        "\n",
        "accident = pd.read_csv(\"road-accidents.csv\", comment=\"#\", sep=\"|\")\n",
        "\n",
        "rows_and_cols = accident.shape\n",
        "print('There are {} rows and {} columns.\\n'.format(\n",
        "    rows_and_cols[0], rows_and_cols[1]))\n",
        "\n",
        "acc_info = accident.info()\n",
        "print(acc_info)\n",
        "\n",
        "accident.tail()"
      ],
      "execution_count": 0,
      "outputs": [
        {
          "output_type": "stream",
          "text": [
            "There are 51 rows and 5 columns.\n",
            "\n",
            "<class 'pandas.core.frame.DataFrame'>\n",
            "RangeIndex: 51 entries, 0 to 50\n",
            "Data columns (total 5 columns):\n",
            "state                   51 non-null object\n",
            "drvr_fatl_col_bmiles    51 non-null float64\n",
            "perc_fatl_speed         51 non-null int64\n",
            "perc_fatl_alcohol       51 non-null int64\n",
            "perc_fatl_1st_time      51 non-null int64\n",
            "dtypes: float64(1), int64(3), object(1)\n",
            "memory usage: 2.1+ KB\n",
            "None\n"
          ],
          "name": "stdout"
        },
        {
          "output_type": "execute_result",
          "data": {
            "text/html": [
              "<div>\n",
              "<style scoped>\n",
              "    .dataframe tbody tr th:only-of-type {\n",
              "        vertical-align: middle;\n",
              "    }\n",
              "\n",
              "    .dataframe tbody tr th {\n",
              "        vertical-align: top;\n",
              "    }\n",
              "\n",
              "    .dataframe thead th {\n",
              "        text-align: right;\n",
              "    }\n",
              "</style>\n",
              "<table border=\"1\" class=\"dataframe\">\n",
              "  <thead>\n",
              "    <tr style=\"text-align: right;\">\n",
              "      <th></th>\n",
              "      <th>state</th>\n",
              "      <th>drvr_fatl_col_bmiles</th>\n",
              "      <th>perc_fatl_speed</th>\n",
              "      <th>perc_fatl_alcohol</th>\n",
              "      <th>perc_fatl_1st_time</th>\n",
              "    </tr>\n",
              "  </thead>\n",
              "  <tbody>\n",
              "    <tr>\n",
              "      <th>46</th>\n",
              "      <td>Virginia</td>\n",
              "      <td>12.7</td>\n",
              "      <td>19</td>\n",
              "      <td>27</td>\n",
              "      <td>88</td>\n",
              "    </tr>\n",
              "    <tr>\n",
              "      <th>47</th>\n",
              "      <td>Washington</td>\n",
              "      <td>10.6</td>\n",
              "      <td>42</td>\n",
              "      <td>33</td>\n",
              "      <td>86</td>\n",
              "    </tr>\n",
              "    <tr>\n",
              "      <th>48</th>\n",
              "      <td>West Virginia</td>\n",
              "      <td>23.8</td>\n",
              "      <td>34</td>\n",
              "      <td>28</td>\n",
              "      <td>87</td>\n",
              "    </tr>\n",
              "    <tr>\n",
              "      <th>49</th>\n",
              "      <td>Wisconsin</td>\n",
              "      <td>13.8</td>\n",
              "      <td>36</td>\n",
              "      <td>33</td>\n",
              "      <td>84</td>\n",
              "    </tr>\n",
              "    <tr>\n",
              "      <th>50</th>\n",
              "      <td>Wyoming</td>\n",
              "      <td>17.4</td>\n",
              "      <td>42</td>\n",
              "      <td>32</td>\n",
              "      <td>90</td>\n",
              "    </tr>\n",
              "  </tbody>\n",
              "</table>\n",
              "</div>"
            ],
            "text/plain": [
              "            state  drvr_fatl_col_bmiles  ...  perc_fatl_alcohol  perc_fatl_1st_time\n",
              "46       Virginia                  12.7  ...                 27                  88\n",
              "47     Washington                  10.6  ...                 33                  86\n",
              "48  West Virginia                  23.8  ...                 28                  87\n",
              "49      Wisconsin                  13.8  ...                 33                  84\n",
              "50        Wyoming                  17.4  ...                 32                  90\n",
              "\n",
              "[5 rows x 5 columns]"
            ]
          },
          "metadata": {
            "tags": []
          },
          "execution_count": 12
        }
      ]
    },
    {
      "cell_type": "markdown",
      "metadata": {
        "editable": false,
        "deletable": false,
        "dc": {
          "key": "17"
        },
        "tags": [
          "context"
        ],
        "run_control": {
          "frozen": true
        },
        "id": "Si8JKF908aPf",
        "colab_type": "text"
      },
      "source": [
        "## Summary the data"
      ]
    },
    {
      "cell_type": "code",
      "metadata": {
        "trusted": true,
        "dc": {
          "key": "17"
        },
        "tags": [
          "sample_code"
        ],
        "id": "6M1Mk-dj8aPi",
        "colab_type": "code",
        "outputId": "30dca16b-c201-486b-f8b3-c0e2d7c89989",
        "colab": {
          "base_uri": "https://localhost:8080/",
          "height": 948
        }
      },
      "source": [
        "import seaborn as sns\n",
        "%matplotlib inline\n",
        "\n",
        "accident_desc = accident.describe()\n",
        "print(accident_desc)\n",
        "\n",
        "sns.pairplot(accident)"
      ],
      "execution_count": 0,
      "outputs": [
        {
          "output_type": "stream",
          "text": [
            "       drvr_fatl_col_bmiles  ...  perc_fatl_1st_time\n",
            "count             51.000000  ...            51.00000\n",
            "mean              15.790196  ...            88.72549\n",
            "std                4.122002  ...             6.96011\n",
            "min                5.900000  ...            76.00000\n",
            "25%               12.750000  ...            83.50000\n",
            "50%               15.600000  ...            88.00000\n",
            "75%               18.500000  ...            95.00000\n",
            "max               23.900000  ...           100.00000\n",
            "\n",
            "[8 rows x 4 columns]\n"
          ],
          "name": "stdout"
        },
        {
          "output_type": "execute_result",
          "data": {
            "text/plain": [
              "<seaborn.axisgrid.PairGrid at 0x7fd8a6873198>"
            ]
          },
          "metadata": {
            "tags": []
          },
          "execution_count": 13
        },
        {
          "output_type": "display_data",
          "data": {
            "image/png": "[encoded data removed]",
            "text/plain": [
              "<Figure size 720x720 with 20 Axes>"
            ]
          },
          "metadata": {
            "tags": []
          }
        }
      ]
    },
    {
      "cell_type": "markdown",
      "metadata": {
        "editable": false,
        "deletable": false,
        "dc": {
          "key": "24"
        },
        "tags": [
          "context"
        ],
        "run_control": {
          "frozen": true
        },
        "id": "CZmZvtmi8aPo",
        "colab_type": "text"
      },
      "source": [
        "## Correlation"
      ]
    },
    {
      "cell_type": "code",
      "metadata": {
        "trusted": true,
        "dc": {
          "key": "24"
        },
        "tags": [
          "sample_code"
        ],
        "id": "9ZfRxT-x8aPq",
        "colab_type": "code",
        "outputId": "3a67adae-3d5e-4bc7-98cb-74b0af46288d",
        "colab": {
          "base_uri": "https://localhost:8080/",
          "height": 133
        }
      },
      "source": [
        "accident_corr = accident.corr()\n",
        "print(accident_corr)"
      ],
      "execution_count": 0,
      "outputs": [
        {
          "output_type": "stream",
          "text": [
            "                      drvr_fatl_col_bmiles  ...  perc_fatl_1st_time\n",
            "drvr_fatl_col_bmiles              1.000000  ...           -0.017942\n",
            "perc_fatl_speed                  -0.029080  ...            0.014066\n",
            "perc_fatl_alcohol                 0.199426  ...           -0.245455\n",
            "perc_fatl_1st_time               -0.017942  ...            1.000000\n",
            "\n",
            "[4 rows x 4 columns]\n"
          ],
          "name": "stdout"
        }
      ]
    },
    {
      "cell_type": "markdown",
      "metadata": {
        "editable": false,
        "deletable": false,
        "dc": {
          "key": "31"
        },
        "tags": [
          "context"
        ],
        "run_control": {
          "frozen": true
        },
        "id": "bsCt8nEz8aPz",
        "colab_type": "text"
      },
      "source": [
        "## Multivariate linear regression"
      ]
    },
    {
      "cell_type": "code",
      "metadata": {
        "trusted": true,
        "dc": {
          "key": "31"
        },
        "tags": [
          "sample_code"
        ],
        "id": "ckP8FzoO8aP1",
        "colab_type": "code",
        "outputId": "a338ae0a-e5a8-4823-fe2b-de06ad81716a",
        "colab": {
          "base_uri": "https://localhost:8080/",
          "height": 33
        }
      },
      "source": [
        "from sklearn import linear_model\n",
        "\n",
        "features = accident[[\"perc_fatl_speed\",\"perc_fatl_alcohol\",\"perc_fatl_1st_time\"]]\n",
        "target = accident[\"drvr_fatl_col_bmiles\"]\n",
        "\n",
        "reg = linear_model.LinearRegression()\n",
        "\n",
        "reg.fit(features, target)\n",
        "\n",
        "fit_coef = reg.coef_\n",
        "fit_coef"
      ],
      "execution_count": 0,
      "outputs": [
        {
          "output_type": "execute_result",
          "data": {
            "text/plain": [
              "array([-0.04180041,  0.19086404,  0.02473301])"
            ]
          },
          "metadata": {
            "tags": []
          },
          "execution_count": 15
        }
      ]
    },
    {
      "cell_type": "markdown",
      "metadata": {
        "editable": false,
        "deletable": false,
        "dc": {
          "key": "38"
        },
        "tags": [
          "context"
        ],
        "run_control": {
          "frozen": true
        },
        "id": "8AdyWyMN8aQC",
        "colab_type": "text"
      },
      "source": [
        "## PCA"
      ]
    },
    {
      "cell_type": "code",
      "metadata": {
        "trusted": true,
        "dc": {
          "key": "38"
        },
        "tags": [
          "sample_code"
        ],
        "id": "sjRlkjlG8aQF",
        "colab_type": "code",
        "outputId": "c308c590-0a74-4fce-8c8b-7f685a17013d",
        "colab": {
          "base_uri": "https://localhost:8080/",
          "height": 295
        }
      },
      "source": [
        "from sklearn.preprocessing import StandardScaler\n",
        "scaler = StandardScaler()\n",
        "feat_scaled = scaler.fit_transform(features)\n",
        "\n",
        "from sklearn.decomposition import PCA\n",
        "pca = PCA()\n",
        "\n",
        "pca.fit(feat_scaled)\n",
        "\n",
        "import matplotlib.pyplot as plt\n",
        "plt.bar(range(1, pca.n_components_ + 1),  pca.explained_variance_ratio_)\n",
        "plt.xlabel('Principal component')\n",
        "plt.ylabel('Proportion of variance')\n",
        "plt.xticks([1, 2, 3])\n",
        "\n",
        "two_first_comp_var_exp = pca.explained_variance_ratio_.cumsum()[1]\n",
        "print(\"The cumulative variance {}\".format(\n",
        "    round(two_first_comp_var_exp, 5)))"
      ],
      "execution_count": 0,
      "outputs": [
        {
          "output_type": "stream",
          "text": [
            "The cumulative variance 0.7947\n"
          ],
          "name": "stdout"
        },
        {
          "output_type": "display_data",
          "data": {
            "image/png": "[encoded data removed]",
            "text/plain": [
              "<Figure size 432x288 with 1 Axes>"
            ]
          },
          "metadata": {
            "tags": []
          }
        }
      ]
    },
    {
      "cell_type": "code",
      "metadata": {
        "trusted": true,
        "dc": {
          "key": "45"
        },
        "tags": [
          "sample_code"
        ],
        "id": "JS5uY0qU8aQQ",
        "colab_type": "code",
        "outputId": "e5f3bb9f-ce5e-41ff-f252-69a653e10f38",
        "colab": {
          "base_uri": "https://localhost:8080/",
          "height": 281
        }
      },
      "source": [
        "pca = PCA(n_components=2)\n",
        "p_comps = pca.fit_transform(feat_scaled)\n",
        "\n",
        "p_comp1 = p_comps[:,0]\n",
        "p_comp2 = p_comps[:,1]\n",
        "\n",
        "plt.scatter(p_comp1,p_comp2)"
      ],
      "execution_count": 0,
      "outputs": [
        {
          "output_type": "execute_result",
          "data": {
            "text/plain": [
              "<matplotlib.collections.PathCollection at 0x7fd89cff34e0>"
            ]
          },
          "metadata": {
            "tags": []
          },
          "execution_count": 17
        },
        {
          "output_type": "display_data",
          "data": {
            "image/png": "[encoded data removed]",
            "text/plain": [
              "<Figure size 432x288 with 1 Axes>"
            ]
          },
          "metadata": {
            "tags": []
          }
        }
      ]
    },
    {
      "cell_type": "markdown",
      "metadata": {
        "editable": false,
        "deletable": false,
        "dc": {
          "key": "52"
        },
        "tags": [
          "context"
        ],
        "run_control": {
          "frozen": true
        },
        "id": "jCQvFgAS8aQY",
        "colab_type": "text"
      },
      "source": [
        "## Find clusters "
      ]
    },
    {
      "cell_type": "code",
      "metadata": {
        "trusted": true,
        "dc": {
          "key": "52"
        },
        "tags": [
          "sample_code"
        ],
        "id": "Mwe2tQ8T8aQa",
        "colab_type": "code",
        "outputId": "12769727-d948-406e-b8c9-ee5637607447",
        "colab": {
          "base_uri": "https://localhost:8080/",
          "height": 281
        }
      },
      "source": [
        "from sklearn.cluster import KMeans\n",
        "\n",
        "ks = range(1, 10)\n",
        "inertias = []\n",
        "for k in ks:\n",
        "    km = KMeans(n_clusters=k, random_state=8)\n",
        "    km.fit(feat_scaled)\n",
        "    inertias.append(km.inertia_)\n",
        "    \n",
        "plt.plot(ks, inertias, marker='o')"
      ],
      "execution_count": 0,
      "outputs": [
        {
          "output_type": "execute_result",
          "data": {
            "text/plain": [
              "[<matplotlib.lines.Line2D at 0x7fd89cf582b0>]"
            ]
          },
          "metadata": {
            "tags": []
          },
          "execution_count": 18
        },
        {
          "output_type": "display_data",
          "data": {
            "image/png": "[encoded data removed]",
            "text/plain": [
              "<Figure size 432x288 with 1 Axes>"
            ]
          },
          "metadata": {
            "tags": []
          }
        }
      ]
    },
    {
      "cell_type": "markdown",
      "metadata": {
        "editable": false,
        "deletable": false,
        "dc": {
          "key": "59"
        },
        "tags": [
          "context"
        ],
        "run_control": {
          "frozen": true
        },
        "id": "-YgqLQSQ8aQo",
        "colab_type": "text"
      },
      "source": [
        "## KMeans to visualize clusters in the PCA scatter plot"
      ]
    },
    {
      "cell_type": "code",
      "metadata": {
        "trusted": true,
        "dc": {
          "key": "59"
        },
        "tags": [
          "sample_code"
        ],
        "id": "46BuGVBs8aQq",
        "colab_type": "code",
        "outputId": "e5050f9c-e6b1-4375-be4f-73dd06b72f8c",
        "colab": {
          "base_uri": "https://localhost:8080/",
          "height": 281
        }
      },
      "source": [
        "km = KMeans(n_clusters=3, random_state=8)\n",
        "\n",
        "p_comps = km.fit_transform(feat_scaled)\n",
        "\n",
        "plt.scatter(p_comps[:,0], p_comps[:,1], c=km.labels_)"
      ],
      "execution_count": 0,
      "outputs": [
        {
          "output_type": "execute_result",
          "data": {
            "text/plain": [
              "<matplotlib.collections.PathCollection at 0x7fd89cf42208>"
            ]
          },
          "metadata": {
            "tags": []
          },
          "execution_count": 19
        },
        {
          "output_type": "display_data",
          "data": {
            "image/png": "[encoded data removed]",
            "text/plain": [
              "<Figure size 432x288 with 1 Axes>"
            ]
          },
          "metadata": {
            "tags": []
          }
        }
      ]
    },
    {
      "cell_type": "markdown",
      "metadata": {
        "editable": false,
        "deletable": false,
        "dc": {
          "key": "66"
        },
        "tags": [
          "context"
        ],
        "run_control": {
          "frozen": true
        },
        "id": "Er7wPAE38aQx",
        "colab_type": "text"
      },
      "source": [
        "##Visualize the different between the clusters"
      ]
    },
    {
      "cell_type": "code",
      "metadata": {
        "trusted": true,
        "dc": {
          "key": "66"
        },
        "tags": [
          "sample_code"
        ],
        "id": "3Cmusdr08aQz",
        "colab_type": "code",
        "outputId": "2dfc7e37-88d9-418b-8e2e-2e16bfe44fe4",
        "colab": {
          "base_uri": "https://localhost:8080/",
          "height": 295
        }
      },
      "source": [
        "# Create a new column with the labels from the KMeans clustering\n",
        "accident['cluster'] = km.labels_\n",
        "\n",
        "# Reshape the DataFrame to the long format\n",
        "melt_acc = pd.melt(accident, id_vars=\"cluster\", var_name=\"measurement\", value_name=\"percent\", value_vars=features)\n",
        "\n",
        "# Create a violin plot splitting and coloring the results according to the km-clusters\n",
        "sns.violinplot(x=melt_acc[\"percent\"], y=melt_acc[\"measurement\"], hue=melt_acc[\"cluster\"])"
      ],
      "execution_count": 0,
      "outputs": [
        {
          "output_type": "execute_result",
          "data": {
            "text/plain": [
              "<matplotlib.axes._subplots.AxesSubplot at 0x7fd89cf05dd8>"
            ]
          },
          "metadata": {
            "tags": []
          },
          "execution_count": 22
        },
        {
          "output_type": "display_data",
          "data": {
            "image/png": "[encoded data removed]",
            "text/plain": [
              "<Figure size 432x288 with 1 Axes>"
            ]
          },
          "metadata": {
            "tags": []
          }
        }
      ]
    },
    {
      "cell_type": "markdown",
      "metadata": {
        "editable": false,
        "deletable": false,
        "dc": {
          "key": "73"
        },
        "tags": [
          "context"
        ],
        "run_control": {
          "frozen": true
        },
        "id": "Ku3Iqlzz8aQ5",
        "colab_type": "text"
      },
      "source": [
        "## Compute the number of accidents"
      ]
    },
    {
      "cell_type": "code",
      "metadata": {
        "trusted": true,
        "dc": {
          "key": "73"
        },
        "scrolled": true,
        "tags": [
          "sample_code"
        ],
        "id": "05fNqlrp8aQ7",
        "colab_type": "code",
        "outputId": "46d4d45b-3bc3-410e-e72c-73009317a622",
        "colab": {
          "base_uri": "https://localhost:8080/",
          "height": 430
        }
      },
      "source": [
        "miles_driven = pd.read_csv('miles-driven.csv', sep='|')\n",
        "\n",
        "acc_miles = pd.merge(accident, miles_driven, on=\"state\")\n",
        "\n",
        "# Create a new column for the number of drivers involved in fatal accidents\n",
        "acc_miles['num_drvr_fatl_col'] = acc_miles['drvr_fatl_col_bmiles']*acc_miles[\"million_miles_annually\"]/1000\n",
        "\n",
        "# Create a barplot of the total number of accidents per cluster\n",
        "sns.barplot(x=acc_miles[\"cluster\"], y=acc_miles[\"num_drvr_fatl_col\"], data=acc_miles, estimator=sum, ci=None)\n",
        "\n",
        "# Calculate the number of states in each cluster and their 'num_drvr_fatl_col' mean and sum.\n",
        "count_mean_sum = acc_miles.groupby(\"cluster\")[\"num_drvr_fatl_col\"].agg([\"count\", \"mean\", \"sum\"])\n",
        "count_mean_sum"
      ],
      "execution_count": 0,
      "outputs": [
        {
          "output_type": "execute_result",
          "data": {
            "text/html": [
              "<div>\n",
              "<style scoped>\n",
              "    .dataframe tbody tr th:only-of-type {\n",
              "        vertical-align: middle;\n",
              "    }\n",
              "\n",
              "    .dataframe tbody tr th {\n",
              "        vertical-align: top;\n",
              "    }\n",
              "\n",
              "    .dataframe thead th {\n",
              "        text-align: right;\n",
              "    }\n",
              "</style>\n",
              "<table border=\"1\" class=\"dataframe\">\n",
              "  <thead>\n",
              "    <tr style=\"text-align: right;\">\n",
              "      <th></th>\n",
              "      <th>count</th>\n",
              "      <th>mean</th>\n",
              "      <th>sum</th>\n",
              "    </tr>\n",
              "    <tr>\n",
              "      <th>cluster</th>\n",
              "      <th></th>\n",
              "      <th></th>\n",
              "      <th></th>\n",
              "    </tr>\n",
              "  </thead>\n",
              "  <tbody>\n",
              "    <tr>\n",
              "      <th>0</th>\n",
              "      <td>22</td>\n",
              "      <td>898.378595</td>\n",
              "      <td>19764.3291</td>\n",
              "    </tr>\n",
              "    <tr>\n",
              "      <th>1</th>\n",
              "      <td>18</td>\n",
              "      <td>911.406439</td>\n",
              "      <td>16405.3159</td>\n",
              "    </tr>\n",
              "    <tr>\n",
              "      <th>2</th>\n",
              "      <td>11</td>\n",
              "      <td>860.505945</td>\n",
              "      <td>9465.5654</td>\n",
              "    </tr>\n",
              "  </tbody>\n",
              "</table>\n",
              "</div>"
            ],
            "text/plain": [
              "         count        mean         sum\n",
              "cluster                               \n",
              "0           22  898.378595  19764.3291\n",
              "1           18  911.406439  16405.3159\n",
              "2           11  860.505945   9465.5654"
            ]
          },
          "metadata": {
            "tags": []
          },
          "execution_count": 24
        },
        {
          "output_type": "display_data",
          "data": {
            "image/png": "[encoded data removed]",
            "text/plain": [
              "<Figure size 432x288 with 1 Axes>"
            ]
          },
          "metadata": {
            "tags": []
          }
        }
      ]
    },
    {
      "cell_type": "code",
      "metadata": {
        "trusted": true,
        "dc": {
          "key": "80"
        },
        "tags": [
          "sample_code"
        ],
        "id": "mEVV69dN8aRH",
        "colab_type": "code",
        "colab": {}
      },
      "source": [
        "#cluster i have to choose\n",
        "cluster_num = 1"
      ],
      "execution_count": 0,
      "outputs": []
    }
  ]
}