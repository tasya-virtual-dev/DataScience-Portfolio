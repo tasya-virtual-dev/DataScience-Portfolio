{
  "nbformat": 4,
  "nbformat_minor": 0,
  "metadata": {
    "kernelspec": {
      "display_name": "Python 3",
      "language": "python",
      "name": "python3"
    },
    "language_info": {
      "codemirror_mode": {
        "name": "ipython",
        "version": 3
      },
      "file_extension": ".py",
      "mimetype": "text/x-python",
      "name": "python",
      "nbconvert_exporter": "python",
      "pygments_lexer": "ipython3",
      "version": "3.6.5"
    },
    "colab": {
      "name": "Portfolio - Detecting Fake News.ipynb",
      "provenance": [],
      "toc_visible": true
    }
  },
  "cells": [
    {
      "cell_type": "code",
      "metadata": {
        "id": "5rzgR6OJY_-o",
        "colab_type": "code",
        "colab": {}
      },
      "source": [
        "import pandas as pd\n",
        "from sklearn.model_selection import train_test_split\n",
        "from sklearn.feature_extraction.text import TfidfVectorizer\n",
        "from sklearn.feature_extraction.text import CountVectorizer\n",
        "from sklearn.naive_bayes import MultinomialNB\n",
        "from sklearn.metrics import accuracy_score\n",
        "from sklearn.metrics import confusion_matrix\n",
        "import numpy as np\n",
        "import itertools\n",
        "from sklearn.linear_model import PassiveAggressiveClassifier"
      ],
      "execution_count": 0,
      "outputs": []
    },
    {
      "cell_type": "code",
      "metadata": {
        "id": "5YAVEOaZY_-0",
        "colab_type": "code",
        "outputId": "5d4bea84-abc8-4ca5-f514-16b33fa52a9c",
        "colab": {
          "base_uri": "https://localhost:8080/",
          "height": 197
        }
      },
      "source": [
        "#Reading data as pandas dataframe\n",
        "df = pd.read_csv('https://s3.amazonaws.com/assets.datacamp.com/blog_assets/fake_or_real_news.csv')\n",
        "\n",
        "#Inspecing Shape\n",
        "df.shape\n",
        "\n",
        "#Inspecting top 5 rows\n",
        "df.head()"
      ],
      "execution_count": 0,
      "outputs": [
        {
          "output_type": "execute_result",
          "data": {
            "text/html": [
              "<div>\n",
              "<style scoped>\n",
              "    .dataframe tbody tr th:only-of-type {\n",
              "        vertical-align: middle;\n",
              "    }\n",
              "\n",
              "    .dataframe tbody tr th {\n",
              "        vertical-align: top;\n",
              "    }\n",
              "\n",
              "    .dataframe thead th {\n",
              "        text-align: right;\n",
              "    }\n",
              "</style>\n",
              "<table border=\"1\" class=\"dataframe\">\n",
              "  <thead>\n",
              "    <tr style=\"text-align: right;\">\n",
              "      <th></th>\n",
              "      <th>Unnamed: 0</th>\n",
              "      <th>title</th>\n",
              "      <th>text</th>\n",
              "      <th>label</th>\n",
              "    </tr>\n",
              "  </thead>\n",
              "  <tbody>\n",
              "    <tr>\n",
              "      <th>0</th>\n",
              "      <td>8476</td>\n",
              "      <td>You Can Smell Hillary’s Fear</td>\n",
              "      <td>Daniel Greenfield, a Shillman Journalism Fello...</td>\n",
              "      <td>FAKE</td>\n",
              "    </tr>\n",
              "    <tr>\n",
              "      <th>1</th>\n",
              "      <td>10294</td>\n",
              "      <td>Watch The Exact Moment Paul Ryan Committed Pol...</td>\n",
              "      <td>Google Pinterest Digg Linkedin Reddit Stumbleu...</td>\n",
              "      <td>FAKE</td>\n",
              "    </tr>\n",
              "    <tr>\n",
              "      <th>2</th>\n",
              "      <td>3608</td>\n",
              "      <td>Kerry to go to Paris in gesture of sympathy</td>\n",
              "      <td>U.S. Secretary of State John F. Kerry said Mon...</td>\n",
              "      <td>REAL</td>\n",
              "    </tr>\n",
              "    <tr>\n",
              "      <th>3</th>\n",
              "      <td>10142</td>\n",
              "      <td>Bernie supporters on Twitter erupt in anger ag...</td>\n",
              "      <td>— Kaydee King (@KaydeeKing) November 9, 2016 T...</td>\n",
              "      <td>FAKE</td>\n",
              "    </tr>\n",
              "    <tr>\n",
              "      <th>4</th>\n",
              "      <td>875</td>\n",
              "      <td>The Battle of New York: Why This Primary Matters</td>\n",
              "      <td>It's primary day in New York and front-runners...</td>\n",
              "      <td>REAL</td>\n",
              "    </tr>\n",
              "  </tbody>\n",
              "</table>\n",
              "</div>"
            ],
            "text/plain": [
              "   Unnamed: 0  ... label\n",
              "0        8476  ...  FAKE\n",
              "1       10294  ...  FAKE\n",
              "2        3608  ...  REAL\n",
              "3       10142  ...  FAKE\n",
              "4         875  ...  REAL\n",
              "\n",
              "[5 rows x 4 columns]"
            ]
          },
          "metadata": {
            "tags": []
          },
          "execution_count": 7
        }
      ]
    },
    {
      "cell_type": "code",
      "metadata": {
        "id": "peBFUP6zY_-9",
        "colab_type": "code",
        "outputId": "8ece27d4-bb55-481d-8a81-5a7ae29d6443",
        "colab": {
          "base_uri": "https://localhost:8080/",
          "height": 227
        }
      },
      "source": [
        "df = df.set_index(\"Unnamed: 0\")\n",
        "df.head()"
      ],
      "execution_count": 0,
      "outputs": [
        {
          "output_type": "execute_result",
          "data": {
            "text/html": [
              "<div>\n",
              "<style scoped>\n",
              "    .dataframe tbody tr th:only-of-type {\n",
              "        vertical-align: middle;\n",
              "    }\n",
              "\n",
              "    .dataframe tbody tr th {\n",
              "        vertical-align: top;\n",
              "    }\n",
              "\n",
              "    .dataframe thead th {\n",
              "        text-align: right;\n",
              "    }\n",
              "</style>\n",
              "<table border=\"1\" class=\"dataframe\">\n",
              "  <thead>\n",
              "    <tr style=\"text-align: right;\">\n",
              "      <th></th>\n",
              "      <th>title</th>\n",
              "      <th>text</th>\n",
              "      <th>label</th>\n",
              "    </tr>\n",
              "    <tr>\n",
              "      <th>Unnamed: 0</th>\n",
              "      <th></th>\n",
              "      <th></th>\n",
              "      <th></th>\n",
              "    </tr>\n",
              "  </thead>\n",
              "  <tbody>\n",
              "    <tr>\n",
              "      <th>8476</th>\n",
              "      <td>You Can Smell Hillary’s Fear</td>\n",
              "      <td>Daniel Greenfield, a Shillman Journalism Fello...</td>\n",
              "      <td>FAKE</td>\n",
              "    </tr>\n",
              "    <tr>\n",
              "      <th>10294</th>\n",
              "      <td>Watch The Exact Moment Paul Ryan Committed Pol...</td>\n",
              "      <td>Google Pinterest Digg Linkedin Reddit Stumbleu...</td>\n",
              "      <td>FAKE</td>\n",
              "    </tr>\n",
              "    <tr>\n",
              "      <th>3608</th>\n",
              "      <td>Kerry to go to Paris in gesture of sympathy</td>\n",
              "      <td>U.S. Secretary of State John F. Kerry said Mon...</td>\n",
              "      <td>REAL</td>\n",
              "    </tr>\n",
              "    <tr>\n",
              "      <th>10142</th>\n",
              "      <td>Bernie supporters on Twitter erupt in anger ag...</td>\n",
              "      <td>— Kaydee King (@KaydeeKing) November 9, 2016 T...</td>\n",
              "      <td>FAKE</td>\n",
              "    </tr>\n",
              "    <tr>\n",
              "      <th>875</th>\n",
              "      <td>The Battle of New York: Why This Primary Matters</td>\n",
              "      <td>It's primary day in New York and front-runners...</td>\n",
              "      <td>REAL</td>\n",
              "    </tr>\n",
              "  </tbody>\n",
              "</table>\n",
              "</div>"
            ],
            "text/plain": [
              "                                                        title  ... label\n",
              "Unnamed: 0                                                     ...      \n",
              "8476                             You Can Smell Hillary’s Fear  ...  FAKE\n",
              "10294       Watch The Exact Moment Paul Ryan Committed Pol...  ...  FAKE\n",
              "3608              Kerry to go to Paris in gesture of sympathy  ...  REAL\n",
              "10142       Bernie supporters on Twitter erupt in anger ag...  ...  FAKE\n",
              "875          The Battle of New York: Why This Primary Matters  ...  REAL\n",
              "\n",
              "[5 rows x 3 columns]"
            ]
          },
          "metadata": {
            "tags": []
          },
          "execution_count": 8
        }
      ]
    },
    {
      "cell_type": "code",
      "metadata": {
        "id": "E_y1HbJKY__G",
        "colab_type": "code",
        "outputId": "76de3f85-ab06-4190-f902-22a575ca1c4a",
        "colab": {
          "base_uri": "https://localhost:8080/",
          "height": 133
        }
      },
      "source": [
        "y = df.label\n",
        "y.head()"
      ],
      "execution_count": 0,
      "outputs": [
        {
          "output_type": "execute_result",
          "data": {
            "text/plain": [
              "Unnamed: 0\n",
              "8476     FAKE\n",
              "10294    FAKE\n",
              "3608     REAL\n",
              "10142    FAKE\n",
              "875      REAL\n",
              "Name: label, dtype: object"
            ]
          },
          "metadata": {
            "tags": []
          },
          "execution_count": 9
        }
      ]
    },
    {
      "cell_type": "code",
      "metadata": {
        "id": "zFiSvCyoY__O",
        "colab_type": "code",
        "outputId": "daefa4fa-6fe3-45e8-be42-63819e4a8120",
        "colab": {
          "base_uri": "https://localhost:8080/",
          "height": 227
        }
      },
      "source": [
        "df.drop(\"label\", axis=1)\n",
        "df.head()"
      ],
      "execution_count": 0,
      "outputs": [
        {
          "output_type": "execute_result",
          "data": {
            "text/html": [
              "<div>\n",
              "<style scoped>\n",
              "    .dataframe tbody tr th:only-of-type {\n",
              "        vertical-align: middle;\n",
              "    }\n",
              "\n",
              "    .dataframe tbody tr th {\n",
              "        vertical-align: top;\n",
              "    }\n",
              "\n",
              "    .dataframe thead th {\n",
              "        text-align: right;\n",
              "    }\n",
              "</style>\n",
              "<table border=\"1\" class=\"dataframe\">\n",
              "  <thead>\n",
              "    <tr style=\"text-align: right;\">\n",
              "      <th></th>\n",
              "      <th>title</th>\n",
              "      <th>text</th>\n",
              "      <th>label</th>\n",
              "    </tr>\n",
              "    <tr>\n",
              "      <th>Unnamed: 0</th>\n",
              "      <th></th>\n",
              "      <th></th>\n",
              "      <th></th>\n",
              "    </tr>\n",
              "  </thead>\n",
              "  <tbody>\n",
              "    <tr>\n",
              "      <th>8476</th>\n",
              "      <td>You Can Smell Hillary’s Fear</td>\n",
              "      <td>Daniel Greenfield, a Shillman Journalism Fello...</td>\n",
              "      <td>FAKE</td>\n",
              "    </tr>\n",
              "    <tr>\n",
              "      <th>10294</th>\n",
              "      <td>Watch The Exact Moment Paul Ryan Committed Pol...</td>\n",
              "      <td>Google Pinterest Digg Linkedin Reddit Stumbleu...</td>\n",
              "      <td>FAKE</td>\n",
              "    </tr>\n",
              "    <tr>\n",
              "      <th>3608</th>\n",
              "      <td>Kerry to go to Paris in gesture of sympathy</td>\n",
              "      <td>U.S. Secretary of State John F. Kerry said Mon...</td>\n",
              "      <td>REAL</td>\n",
              "    </tr>\n",
              "    <tr>\n",
              "      <th>10142</th>\n",
              "      <td>Bernie supporters on Twitter erupt in anger ag...</td>\n",
              "      <td>— Kaydee King (@KaydeeKing) November 9, 2016 T...</td>\n",
              "      <td>FAKE</td>\n",
              "    </tr>\n",
              "    <tr>\n",
              "      <th>875</th>\n",
              "      <td>The Battle of New York: Why This Primary Matters</td>\n",
              "      <td>It's primary day in New York and front-runners...</td>\n",
              "      <td>REAL</td>\n",
              "    </tr>\n",
              "  </tbody>\n",
              "</table>\n",
              "</div>"
            ],
            "text/plain": [
              "                                                        title  ... label\n",
              "Unnamed: 0                                                     ...      \n",
              "8476                             You Can Smell Hillary’s Fear  ...  FAKE\n",
              "10294       Watch The Exact Moment Paul Ryan Committed Pol...  ...  FAKE\n",
              "3608              Kerry to go to Paris in gesture of sympathy  ...  REAL\n",
              "10142       Bernie supporters on Twitter erupt in anger ag...  ...  FAKE\n",
              "875          The Battle of New York: Why This Primary Matters  ...  REAL\n",
              "\n",
              "[5 rows x 3 columns]"
            ]
          },
          "metadata": {
            "tags": []
          },
          "execution_count": 10
        }
      ]
    },
    {
      "cell_type": "code",
      "metadata": {
        "id": "OYA8pb9-Y__W",
        "colab_type": "code",
        "colab": {}
      },
      "source": [
        "X_train, X_test, y_train, y_test = train_test_split(df['text'], y, test_size=0.33, random_state=53)"
      ],
      "execution_count": 0,
      "outputs": []
    },
    {
      "cell_type": "code",
      "metadata": {
        "id": "u6AZoz5LY__f",
        "colab_type": "code",
        "outputId": "edbf201a-1eb4-4209-e828-7ac984952726",
        "colab": {
          "base_uri": "https://localhost:8080/",
          "height": 133
        }
      },
      "source": [
        "X_train.head()"
      ],
      "execution_count": 0,
      "outputs": [
        {
          "output_type": "execute_result",
          "data": {
            "text/plain": [
              "Unnamed: 0\n",
              "8055                                                     \n",
              "5656    Report Copyright Violation Do you think there ...\n",
              "669     The election in 232 photos, 43 numbers and 131...\n",
              "5630    Email Ever wonder what’s on the mind of today’...\n",
              "9797    Wells Fargo is Rotting from the Top Down Wells...\n",
              "Name: text, dtype: object"
            ]
          },
          "metadata": {
            "tags": []
          },
          "execution_count": 14
        }
      ]
    },
    {
      "cell_type": "code",
      "metadata": {
        "id": "6zWOfzZEY__p",
        "colab_type": "code",
        "outputId": "a5fcffd5-996c-4e31-b722-1071901c41d9",
        "colab": {
          "base_uri": "https://localhost:8080/",
          "height": 133
        }
      },
      "source": [
        "y_train.head()"
      ],
      "execution_count": 0,
      "outputs": [
        {
          "output_type": "execute_result",
          "data": {
            "text/plain": [
              "Unnamed: 0\n",
              "8055    FAKE\n",
              "5656    FAKE\n",
              "669     REAL\n",
              "5630    FAKE\n",
              "9797    FAKE\n",
              "Name: label, dtype: object"
            ]
          },
          "metadata": {
            "tags": []
          },
          "execution_count": 15
        }
      ]
    },
    {
      "cell_type": "markdown",
      "metadata": {
        "id": "3oZ8ffdvY__v",
        "colab_type": "text"
      },
      "source": [
        "# Building Vectorizer Classifiers"
      ]
    },
    {
      "cell_type": "markdown",
      "metadata": {
        "id": "qoulNvqHY__z",
        "colab_type": "text"
      },
      "source": [
        "## By Using Count Vectorizer"
      ]
    },
    {
      "cell_type": "code",
      "metadata": {
        "id": "ET1TL6aRY__1",
        "colab_type": "code",
        "colab": {}
      },
      "source": [
        "count_vectorizer = CountVectorizer(stop_words='english')\n",
        "\n",
        "count_train = count_vectorizer.fit_transform(X_train)\n",
        " \n",
        "count_test = count_vectorizer.transform(X_test)"
      ],
      "execution_count": 0,
      "outputs": []
    },
    {
      "cell_type": "markdown",
      "metadata": {
        "id": "CzSE1xcbY___",
        "colab_type": "text"
      },
      "source": [
        "## By Using Tf-IDF Vectorizer"
      ]
    },
    {
      "cell_type": "code",
      "metadata": {
        "id": "xw8qnjGTZAAD",
        "colab_type": "code",
        "colab": {}
      },
      "source": [
        "tfidf_vectorizer = TfidfVectorizer(stop_words='english', max_df=0.7) \n",
        "\n",
        "tfidf_train = tfidf_vectorizer.fit_transform(X_train) \n",
        " \n",
        "tfidf_test = tfidf_vectorizer.transform(X_test)"
      ],
      "execution_count": 0,
      "outputs": []
    },
    {
      "cell_type": "code",
      "metadata": {
        "id": "lKWdxCjnZAAK",
        "colab_type": "code",
        "outputId": "48a0b7d7-b5f6-4653-f0e7-23b66554c44a",
        "colab": {
          "base_uri": "https://localhost:8080/",
          "height": 866
        }
      },
      "source": [
        "print(tfidf_test)"
      ],
      "execution_count": 0,
      "outputs": [
        {
          "output_type": "stream",
          "text": [
            "  (0, 56196)\t0.043317993781946\n",
            "  (0, 56091)\t0.032700334892684514\n",
            "  (0, 55858)\t0.05420932672571138\n",
            "  (0, 55358)\t0.059873902121258926\n",
            "  (0, 55027)\t0.048465128413932454\n",
            "  (0, 54772)\t0.06742854646276102\n",
            "  (0, 54647)\t0.03727533728426692\n",
            "  (0, 54484)\t0.1271579409566499\n",
            "  (0, 54400)\t0.05200707680397371\n",
            "  (0, 54182)\t0.17039563890103226\n",
            "  (0, 52193)\t0.050614987002584974\n",
            "  (0, 52166)\t0.09946716362549408\n",
            "  (0, 52164)\t0.07141989873688631\n",
            "  (0, 51896)\t0.09946458588236584\n",
            "  (0, 51083)\t0.06988430196901438\n",
            "  (0, 50973)\t0.11421142130023298\n",
            "  (0, 50920)\t0.08108261495679815\n",
            "  (0, 50712)\t0.07153047197062776\n",
            "  (0, 50690)\t0.05024667107829908\n",
            "  (0, 50627)\t0.04286648720912277\n",
            "  (0, 48965)\t0.06202757667895662\n",
            "  (0, 48929)\t0.17556869825083593\n",
            "  (0, 46631)\t0.14220349264725846\n",
            "  (0, 46621)\t0.10706347107534141\n",
            "  (0, 44522)\t0.040932482324428275\n",
            "  :\t:\n",
            "  (2090, 5969)\t0.03303772830203347\n",
            "  (2090, 5576)\t0.04943418930560652\n",
            "  (2090, 5530)\t0.05752451982231977\n",
            "  (2090, 4919)\t0.026792001261175008\n",
            "  (2090, 4321)\t0.03889600231664325\n",
            "  (2090, 4283)\t0.04943418930560652\n",
            "  (2090, 4024)\t0.046164206664987995\n",
            "  (2090, 3963)\t0.04276342023089646\n",
            "  (2090, 3962)\t0.03984416880301212\n",
            "  (2090, 3821)\t0.031026844187897015\n",
            "  (2090, 3705)\t0.03856440623639213\n",
            "  (2090, 3448)\t0.06787452846799416\n",
            "  (2090, 3384)\t0.04376239604373169\n",
            "  (2090, 3309)\t0.03505015039159429\n",
            "  (2090, 3134)\t0.05057541273488484\n",
            "  (2090, 3012)\t0.05557717524951092\n",
            "  (2090, 2653)\t0.04826147055215645\n",
            "  (2090, 2578)\t0.07526710922172818\n",
            "  (2090, 2577)\t0.0706094587636242\n",
            "  (2090, 2505)\t0.0440549736788721\n",
            "  (2090, 2167)\t0.02050185813837838\n",
            "  (2090, 2113)\t0.035161571989314626\n",
            "  (2090, 1140)\t0.0706094587636242\n",
            "  (2090, 1113)\t0.07264405651214609\n",
            "  (2090, 649)\t0.01836897745872662\n"
          ],
          "name": "stdout"
        }
      ]
    },
    {
      "cell_type": "code",
      "metadata": {
        "id": "eH9NBsmBZAAQ",
        "colab_type": "code",
        "outputId": "663e88db-8452-4cea-84f5-2deb63df67bc",
        "colab": {
          "base_uri": "https://localhost:8080/",
          "height": 33
        }
      },
      "source": [
        "print(tfidf_vectorizer.get_feature_names()[-10:])"
      ],
      "execution_count": 0,
      "outputs": [
        {
          "output_type": "stream",
          "text": [
            "['حلب', 'عربي', 'عن', 'لم', 'ما', 'محاولات', 'من', 'هذا', 'والمرضى', 'ยงade']\n"
          ],
          "name": "stdout"
        }
      ]
    },
    {
      "cell_type": "code",
      "metadata": {
        "id": "wAUEGz7-ZAAY",
        "colab_type": "code",
        "outputId": "42c7b5e0-8edc-4962-a120-60d8b06cb18c",
        "colab": {
          "base_uri": "https://localhost:8080/",
          "height": 33
        }
      },
      "source": [
        "print(count_vectorizer.get_feature_names()[0:10])"
      ],
      "execution_count": 0,
      "outputs": [
        {
          "output_type": "stream",
          "text": [
            "['00', '000', '0000', '00000031', '000035', '00006', '0001', '0001pt', '000ft', '000km']\n"
          ],
          "name": "stdout"
        }
      ]
    },
    {
      "cell_type": "markdown",
      "metadata": {
        "id": "4vyisDj5ZAAj",
        "colab_type": "text"
      },
      "source": [
        "# Values of Token Generated by Both The Vectorizers Are Same"
      ]
    },
    {
      "cell_type": "code",
      "metadata": {
        "id": "UVySOAmbZAAn",
        "colab_type": "code",
        "outputId": "611b4ede-4ac1-45d7-ef17-be06365bfe75",
        "colab": {
          "base_uri": "https://localhost:8080/",
          "height": 263
        }
      },
      "source": [
        "countDf = pd.DataFrame(count_train.A, columns=count_vectorizer.get_feature_names())\n",
        "tfidfDf = pd.DataFrame(tfidf_train.A, columns=tfidf_vectorizer.get_feature_names())\n",
        "difference = set(countDf.columns) - set(tfidfDf.columns)\n",
        "difference\n",
        "set()\n",
        "print(countDf.equals(tfidfDf))\n",
        "countDf.head()"
      ],
      "execution_count": 0,
      "outputs": [
        {
          "output_type": "stream",
          "text": [
            "False\n"
          ],
          "name": "stdout"
        },
        {
          "output_type": "execute_result",
          "data": {
            "text/html": [
              "<div>\n",
              "<style scoped>\n",
              "    .dataframe tbody tr th:only-of-type {\n",
              "        vertical-align: middle;\n",
              "    }\n",
              "\n",
              "    .dataframe tbody tr th {\n",
              "        vertical-align: top;\n",
              "    }\n",
              "\n",
              "    .dataframe thead th {\n",
              "        text-align: right;\n",
              "    }\n",
              "</style>\n",
              "<table border=\"1\" class=\"dataframe\">\n",
              "  <thead>\n",
              "    <tr style=\"text-align: right;\">\n",
              "      <th></th>\n",
              "      <th>00</th>\n",
              "      <th>000</th>\n",
              "      <th>0000</th>\n",
              "      <th>00000031</th>\n",
              "      <th>000035</th>\n",
              "      <th>00006</th>\n",
              "      <th>0001</th>\n",
              "      <th>0001pt</th>\n",
              "      <th>000ft</th>\n",
              "      <th>000km</th>\n",
              "      <th>001</th>\n",
              "      <th>0011</th>\n",
              "      <th>002</th>\n",
              "      <th>003</th>\n",
              "      <th>004</th>\n",
              "      <th>006</th>\n",
              "      <th>006s</th>\n",
              "      <th>007</th>\n",
              "      <th>007s</th>\n",
              "      <th>008</th>\n",
              "      <th>008s</th>\n",
              "      <th>009</th>\n",
              "      <th>0099</th>\n",
              "      <th>00am</th>\n",
              "      <th>00p</th>\n",
              "      <th>00pm</th>\n",
              "      <th>01</th>\n",
              "      <th>010</th>\n",
              "      <th>013</th>\n",
              "      <th>014</th>\n",
              "      <th>015</th>\n",
              "      <th>016</th>\n",
              "      <th>018</th>\n",
              "      <th>01am</th>\n",
              "      <th>02</th>\n",
              "      <th>020</th>\n",
              "      <th>022</th>\n",
              "      <th>023</th>\n",
              "      <th>024</th>\n",
              "      <th>025</th>\n",
              "      <th>...</th>\n",
              "      <th>שולטים</th>\n",
              "      <th>שזו</th>\n",
              "      <th>שטחים</th>\n",
              "      <th>שינוי</th>\n",
              "      <th>שיתעקש</th>\n",
              "      <th>שכל</th>\n",
              "      <th>שכמוני</th>\n",
              "      <th>של</th>\n",
              "      <th>שלו</th>\n",
              "      <th>שנדרש</th>\n",
              "      <th>שני</th>\n",
              "      <th>שעת</th>\n",
              "      <th>שתי</th>\n",
              "      <th>תאמצנה</th>\n",
              "      <th>תוצאה</th>\n",
              "      <th>תחל</th>\n",
              "      <th>תיירות</th>\n",
              "      <th>תנותק</th>\n",
              "      <th>תעודת</th>\n",
              "      <th>תתרכז</th>\n",
              "      <th>أن</th>\n",
              "      <th>إجلاء</th>\n",
              "      <th>الأمر</th>\n",
              "      <th>الجرحى</th>\n",
              "      <th>الدولية</th>\n",
              "      <th>القادمون</th>\n",
              "      <th>اللجنة</th>\n",
              "      <th>تحتاج</th>\n",
              "      <th>تعرفه</th>\n",
              "      <th>تنجح</th>\n",
              "      <th>حلب</th>\n",
              "      <th>عربي</th>\n",
              "      <th>عن</th>\n",
              "      <th>لم</th>\n",
              "      <th>ما</th>\n",
              "      <th>محاولات</th>\n",
              "      <th>من</th>\n",
              "      <th>هذا</th>\n",
              "      <th>والمرضى</th>\n",
              "      <th>ยงade</th>\n",
              "    </tr>\n",
              "  </thead>\n",
              "  <tbody>\n",
              "    <tr>\n",
              "      <th>0</th>\n",
              "      <td>0</td>\n",
              "      <td>0</td>\n",
              "      <td>0</td>\n",
              "      <td>0</td>\n",
              "      <td>0</td>\n",
              "      <td>0</td>\n",
              "      <td>0</td>\n",
              "      <td>0</td>\n",
              "      <td>0</td>\n",
              "      <td>0</td>\n",
              "      <td>0</td>\n",
              "      <td>0</td>\n",
              "      <td>0</td>\n",
              "      <td>0</td>\n",
              "      <td>0</td>\n",
              "      <td>0</td>\n",
              "      <td>0</td>\n",
              "      <td>0</td>\n",
              "      <td>0</td>\n",
              "      <td>0</td>\n",
              "      <td>0</td>\n",
              "      <td>0</td>\n",
              "      <td>0</td>\n",
              "      <td>0</td>\n",
              "      <td>0</td>\n",
              "      <td>0</td>\n",
              "      <td>0</td>\n",
              "      <td>0</td>\n",
              "      <td>0</td>\n",
              "      <td>0</td>\n",
              "      <td>0</td>\n",
              "      <td>0</td>\n",
              "      <td>0</td>\n",
              "      <td>0</td>\n",
              "      <td>0</td>\n",
              "      <td>0</td>\n",
              "      <td>0</td>\n",
              "      <td>0</td>\n",
              "      <td>0</td>\n",
              "      <td>0</td>\n",
              "      <td>...</td>\n",
              "      <td>0</td>\n",
              "      <td>0</td>\n",
              "      <td>0</td>\n",
              "      <td>0</td>\n",
              "      <td>0</td>\n",
              "      <td>0</td>\n",
              "      <td>0</td>\n",
              "      <td>0</td>\n",
              "      <td>0</td>\n",
              "      <td>0</td>\n",
              "      <td>0</td>\n",
              "      <td>0</td>\n",
              "      <td>0</td>\n",
              "      <td>0</td>\n",
              "      <td>0</td>\n",
              "      <td>0</td>\n",
              "      <td>0</td>\n",
              "      <td>0</td>\n",
              "      <td>0</td>\n",
              "      <td>0</td>\n",
              "      <td>0</td>\n",
              "      <td>0</td>\n",
              "      <td>0</td>\n",
              "      <td>0</td>\n",
              "      <td>0</td>\n",
              "      <td>0</td>\n",
              "      <td>0</td>\n",
              "      <td>0</td>\n",
              "      <td>0</td>\n",
              "      <td>0</td>\n",
              "      <td>0</td>\n",
              "      <td>0</td>\n",
              "      <td>0</td>\n",
              "      <td>0</td>\n",
              "      <td>0</td>\n",
              "      <td>0</td>\n",
              "      <td>0</td>\n",
              "      <td>0</td>\n",
              "      <td>0</td>\n",
              "      <td>0</td>\n",
              "    </tr>\n",
              "    <tr>\n",
              "      <th>1</th>\n",
              "      <td>0</td>\n",
              "      <td>0</td>\n",
              "      <td>0</td>\n",
              "      <td>0</td>\n",
              "      <td>0</td>\n",
              "      <td>0</td>\n",
              "      <td>0</td>\n",
              "      <td>0</td>\n",
              "      <td>0</td>\n",
              "      <td>0</td>\n",
              "      <td>0</td>\n",
              "      <td>0</td>\n",
              "      <td>0</td>\n",
              "      <td>0</td>\n",
              "      <td>0</td>\n",
              "      <td>0</td>\n",
              "      <td>0</td>\n",
              "      <td>0</td>\n",
              "      <td>0</td>\n",
              "      <td>0</td>\n",
              "      <td>0</td>\n",
              "      <td>0</td>\n",
              "      <td>0</td>\n",
              "      <td>0</td>\n",
              "      <td>0</td>\n",
              "      <td>0</td>\n",
              "      <td>0</td>\n",
              "      <td>0</td>\n",
              "      <td>0</td>\n",
              "      <td>0</td>\n",
              "      <td>0</td>\n",
              "      <td>0</td>\n",
              "      <td>0</td>\n",
              "      <td>0</td>\n",
              "      <td>0</td>\n",
              "      <td>0</td>\n",
              "      <td>0</td>\n",
              "      <td>0</td>\n",
              "      <td>0</td>\n",
              "      <td>0</td>\n",
              "      <td>...</td>\n",
              "      <td>0</td>\n",
              "      <td>0</td>\n",
              "      <td>0</td>\n",
              "      <td>0</td>\n",
              "      <td>0</td>\n",
              "      <td>0</td>\n",
              "      <td>0</td>\n",
              "      <td>0</td>\n",
              "      <td>0</td>\n",
              "      <td>0</td>\n",
              "      <td>0</td>\n",
              "      <td>0</td>\n",
              "      <td>0</td>\n",
              "      <td>0</td>\n",
              "      <td>0</td>\n",
              "      <td>0</td>\n",
              "      <td>0</td>\n",
              "      <td>0</td>\n",
              "      <td>0</td>\n",
              "      <td>0</td>\n",
              "      <td>0</td>\n",
              "      <td>0</td>\n",
              "      <td>0</td>\n",
              "      <td>0</td>\n",
              "      <td>0</td>\n",
              "      <td>0</td>\n",
              "      <td>0</td>\n",
              "      <td>0</td>\n",
              "      <td>0</td>\n",
              "      <td>0</td>\n",
              "      <td>0</td>\n",
              "      <td>0</td>\n",
              "      <td>0</td>\n",
              "      <td>0</td>\n",
              "      <td>0</td>\n",
              "      <td>0</td>\n",
              "      <td>0</td>\n",
              "      <td>0</td>\n",
              "      <td>0</td>\n",
              "      <td>0</td>\n",
              "    </tr>\n",
              "    <tr>\n",
              "      <th>2</th>\n",
              "      <td>0</td>\n",
              "      <td>0</td>\n",
              "      <td>0</td>\n",
              "      <td>0</td>\n",
              "      <td>0</td>\n",
              "      <td>0</td>\n",
              "      <td>0</td>\n",
              "      <td>0</td>\n",
              "      <td>0</td>\n",
              "      <td>0</td>\n",
              "      <td>0</td>\n",
              "      <td>0</td>\n",
              "      <td>0</td>\n",
              "      <td>0</td>\n",
              "      <td>0</td>\n",
              "      <td>0</td>\n",
              "      <td>0</td>\n",
              "      <td>0</td>\n",
              "      <td>0</td>\n",
              "      <td>0</td>\n",
              "      <td>0</td>\n",
              "      <td>0</td>\n",
              "      <td>0</td>\n",
              "      <td>0</td>\n",
              "      <td>0</td>\n",
              "      <td>0</td>\n",
              "      <td>0</td>\n",
              "      <td>0</td>\n",
              "      <td>0</td>\n",
              "      <td>0</td>\n",
              "      <td>0</td>\n",
              "      <td>0</td>\n",
              "      <td>0</td>\n",
              "      <td>0</td>\n",
              "      <td>0</td>\n",
              "      <td>0</td>\n",
              "      <td>0</td>\n",
              "      <td>0</td>\n",
              "      <td>0</td>\n",
              "      <td>0</td>\n",
              "      <td>...</td>\n",
              "      <td>0</td>\n",
              "      <td>0</td>\n",
              "      <td>0</td>\n",
              "      <td>0</td>\n",
              "      <td>0</td>\n",
              "      <td>0</td>\n",
              "      <td>0</td>\n",
              "      <td>0</td>\n",
              "      <td>0</td>\n",
              "      <td>0</td>\n",
              "      <td>0</td>\n",
              "      <td>0</td>\n",
              "      <td>0</td>\n",
              "      <td>0</td>\n",
              "      <td>0</td>\n",
              "      <td>0</td>\n",
              "      <td>0</td>\n",
              "      <td>0</td>\n",
              "      <td>0</td>\n",
              "      <td>0</td>\n",
              "      <td>0</td>\n",
              "      <td>0</td>\n",
              "      <td>0</td>\n",
              "      <td>0</td>\n",
              "      <td>0</td>\n",
              "      <td>0</td>\n",
              "      <td>0</td>\n",
              "      <td>0</td>\n",
              "      <td>0</td>\n",
              "      <td>0</td>\n",
              "      <td>0</td>\n",
              "      <td>0</td>\n",
              "      <td>0</td>\n",
              "      <td>0</td>\n",
              "      <td>0</td>\n",
              "      <td>0</td>\n",
              "      <td>0</td>\n",
              "      <td>0</td>\n",
              "      <td>0</td>\n",
              "      <td>0</td>\n",
              "    </tr>\n",
              "    <tr>\n",
              "      <th>3</th>\n",
              "      <td>0</td>\n",
              "      <td>0</td>\n",
              "      <td>0</td>\n",
              "      <td>0</td>\n",
              "      <td>0</td>\n",
              "      <td>0</td>\n",
              "      <td>0</td>\n",
              "      <td>0</td>\n",
              "      <td>0</td>\n",
              "      <td>0</td>\n",
              "      <td>0</td>\n",
              "      <td>0</td>\n",
              "      <td>0</td>\n",
              "      <td>0</td>\n",
              "      <td>0</td>\n",
              "      <td>0</td>\n",
              "      <td>0</td>\n",
              "      <td>0</td>\n",
              "      <td>0</td>\n",
              "      <td>0</td>\n",
              "      <td>0</td>\n",
              "      <td>0</td>\n",
              "      <td>0</td>\n",
              "      <td>0</td>\n",
              "      <td>0</td>\n",
              "      <td>0</td>\n",
              "      <td>0</td>\n",
              "      <td>0</td>\n",
              "      <td>0</td>\n",
              "      <td>0</td>\n",
              "      <td>0</td>\n",
              "      <td>0</td>\n",
              "      <td>0</td>\n",
              "      <td>0</td>\n",
              "      <td>0</td>\n",
              "      <td>0</td>\n",
              "      <td>0</td>\n",
              "      <td>0</td>\n",
              "      <td>0</td>\n",
              "      <td>0</td>\n",
              "      <td>...</td>\n",
              "      <td>0</td>\n",
              "      <td>0</td>\n",
              "      <td>0</td>\n",
              "      <td>0</td>\n",
              "      <td>0</td>\n",
              "      <td>0</td>\n",
              "      <td>0</td>\n",
              "      <td>0</td>\n",
              "      <td>0</td>\n",
              "      <td>0</td>\n",
              "      <td>0</td>\n",
              "      <td>0</td>\n",
              "      <td>0</td>\n",
              "      <td>0</td>\n",
              "      <td>0</td>\n",
              "      <td>0</td>\n",
              "      <td>0</td>\n",
              "      <td>0</td>\n",
              "      <td>0</td>\n",
              "      <td>0</td>\n",
              "      <td>0</td>\n",
              "      <td>0</td>\n",
              "      <td>0</td>\n",
              "      <td>0</td>\n",
              "      <td>0</td>\n",
              "      <td>0</td>\n",
              "      <td>0</td>\n",
              "      <td>0</td>\n",
              "      <td>0</td>\n",
              "      <td>0</td>\n",
              "      <td>0</td>\n",
              "      <td>0</td>\n",
              "      <td>0</td>\n",
              "      <td>0</td>\n",
              "      <td>0</td>\n",
              "      <td>0</td>\n",
              "      <td>0</td>\n",
              "      <td>0</td>\n",
              "      <td>0</td>\n",
              "      <td>0</td>\n",
              "    </tr>\n",
              "    <tr>\n",
              "      <th>4</th>\n",
              "      <td>0</td>\n",
              "      <td>0</td>\n",
              "      <td>0</td>\n",
              "      <td>0</td>\n",
              "      <td>0</td>\n",
              "      <td>0</td>\n",
              "      <td>0</td>\n",
              "      <td>0</td>\n",
              "      <td>0</td>\n",
              "      <td>0</td>\n",
              "      <td>0</td>\n",
              "      <td>0</td>\n",
              "      <td>0</td>\n",
              "      <td>0</td>\n",
              "      <td>0</td>\n",
              "      <td>0</td>\n",
              "      <td>0</td>\n",
              "      <td>0</td>\n",
              "      <td>0</td>\n",
              "      <td>0</td>\n",
              "      <td>0</td>\n",
              "      <td>0</td>\n",
              "      <td>0</td>\n",
              "      <td>0</td>\n",
              "      <td>0</td>\n",
              "      <td>0</td>\n",
              "      <td>0</td>\n",
              "      <td>0</td>\n",
              "      <td>0</td>\n",
              "      <td>0</td>\n",
              "      <td>0</td>\n",
              "      <td>0</td>\n",
              "      <td>0</td>\n",
              "      <td>0</td>\n",
              "      <td>0</td>\n",
              "      <td>0</td>\n",
              "      <td>0</td>\n",
              "      <td>0</td>\n",
              "      <td>0</td>\n",
              "      <td>0</td>\n",
              "      <td>...</td>\n",
              "      <td>0</td>\n",
              "      <td>0</td>\n",
              "      <td>0</td>\n",
              "      <td>0</td>\n",
              "      <td>0</td>\n",
              "      <td>0</td>\n",
              "      <td>0</td>\n",
              "      <td>0</td>\n",
              "      <td>0</td>\n",
              "      <td>0</td>\n",
              "      <td>0</td>\n",
              "      <td>0</td>\n",
              "      <td>0</td>\n",
              "      <td>0</td>\n",
              "      <td>0</td>\n",
              "      <td>0</td>\n",
              "      <td>0</td>\n",
              "      <td>0</td>\n",
              "      <td>0</td>\n",
              "      <td>0</td>\n",
              "      <td>0</td>\n",
              "      <td>0</td>\n",
              "      <td>0</td>\n",
              "      <td>0</td>\n",
              "      <td>0</td>\n",
              "      <td>0</td>\n",
              "      <td>0</td>\n",
              "      <td>0</td>\n",
              "      <td>0</td>\n",
              "      <td>0</td>\n",
              "      <td>0</td>\n",
              "      <td>0</td>\n",
              "      <td>0</td>\n",
              "      <td>0</td>\n",
              "      <td>0</td>\n",
              "      <td>0</td>\n",
              "      <td>0</td>\n",
              "      <td>0</td>\n",
              "      <td>0</td>\n",
              "      <td>0</td>\n",
              "    </tr>\n",
              "  </tbody>\n",
              "</table>\n",
              "<p>5 rows × 56922 columns</p>\n",
              "</div>"
            ],
            "text/plain": [
              "   00  000  0000  00000031  000035  00006  ...  ما  محاولات  من  هذا  والمرضى  ยงade\n",
              "0   0    0     0         0       0      0  ...   0        0   0    0        0      0\n",
              "1   0    0     0         0       0      0  ...   0        0   0    0        0      0\n",
              "2   0    0     0         0       0      0  ...   0        0   0    0        0      0\n",
              "3   0    0     0         0       0      0  ...   0        0   0    0        0      0\n",
              "4   0    0     0         0       0      0  ...   0        0   0    0        0      0\n",
              "\n",
              "[5 rows x 56922 columns]"
            ]
          },
          "metadata": {
            "tags": []
          },
          "execution_count": 23
        }
      ]
    },
    {
      "cell_type": "markdown",
      "metadata": {
        "id": "B_Mji_CxZAAw",
        "colab_type": "text"
      },
      "source": [
        "# Confusion Matrix"
      ]
    },
    {
      "cell_type": "code",
      "metadata": {
        "id": "KQpr6N9vZAAy",
        "colab_type": "code",
        "colab": {}
      },
      "source": [
        "import matplotlib.pyplot as plt\n",
        "def plot_confusion_matrix(cm, classes,\n",
        "                          normalize=False,\n",
        "                          title='Confusion matrix',\n",
        "                          cmap=plt.cm.Blues):\n",
        "\n",
        "    plt.imshow(cm, interpolation='nearest', cmap=cmap)\n",
        "    plt.title(title)\n",
        "    plt.colorbar()\n",
        "    tick_marks = np.arange(len(classes))\n",
        "    plt.xticks(tick_marks, classes, rotation=45)\n",
        "    plt.yticks(tick_marks, classes)\n",
        "\n",
        "    if normalize:\n",
        "        cm = cm.astype('float') / cm.sum(axis=1)[:, np.newaxis]\n",
        "        print(\"Normalized confusion matrix\")\n",
        "    else:\n",
        "        print('Confusion matrix, without normalization')\n",
        "\n",
        "    thresh = cm.max() / 2.\n",
        "    for i, j in itertools.product(range(cm.shape[0]), range(cm.shape[1])):\n",
        "        plt.text(j, i, cm[i, j],\n",
        "                 horizontalalignment=\"center\",\n",
        "                 color=\"white\" if cm[i, j] > thresh else \"black\")\n",
        "\n",
        "    plt.tight_layout()\n",
        "    plt.ylabel('True label')\n",
        "    plt.xlabel('Predicted label')"
      ],
      "execution_count": 0,
      "outputs": []
    },
    {
      "cell_type": "markdown",
      "metadata": {
        "id": "RLsgCiCnZAA7",
        "colab_type": "text"
      },
      "source": [
        "# Drawing Confusion Matrix With TfIdf Vectorizer"
      ]
    },
    {
      "cell_type": "code",
      "metadata": {
        "id": "grp5TwXTZAA8",
        "colab_type": "code",
        "outputId": "0ed88414-9acb-4e9c-dba1-387ea58432a3",
        "colab": {
          "base_uri": "https://localhost:8080/",
          "height": 344
        }
      },
      "source": [
        "clf = MultinomialNB() \n",
        "clf.fit(tfidf_train, y_train)\n",
        "pred = clf.predict(tfidf_test)\n",
        "score = accuracy_score(y_test, pred)\n",
        "print(\"accuracy:   %0.3f\" % score)\n",
        "cm = confusion_matrix(y_test, pred, labels=['FAKE', 'REAL'])\n",
        "plot_confusion_matrix(cm, classes=['FAKE', 'REAL'])"
      ],
      "execution_count": 0,
      "outputs": [
        {
          "output_type": "stream",
          "text": [
            "accuracy:   0.857\n",
            "Confusion matrix, without normalization\n"
          ],
          "name": "stdout"
        },
        {
          "output_type": "display_data",
          "data": {
            "image/png": "[encoded data removed]",
            "text/plain": [
              "<Figure size 432x288 with 2 Axes>"
            ]
          },
          "metadata": {
            "tags": []
          }
        }
      ]
    },
    {
      "cell_type": "markdown",
      "metadata": {
        "id": "pS9lVuXnZABC",
        "colab_type": "text"
      },
      "source": [
        "# Drawing Confusion Matrix With Bag Of Words (Count Vectorizer)"
      ]
    },
    {
      "cell_type": "code",
      "metadata": {
        "id": "wFw8MeThZABD",
        "colab_type": "code",
        "outputId": "eb4256c2-7332-4546-ecb3-d599543931ec",
        "colab": {
          "base_uri": "https://localhost:8080/",
          "height": 344
        }
      },
      "source": [
        "clf = MultinomialNB() \n",
        "clf.fit(count_train, y_train)\n",
        "pred = clf.predict(count_test)\n",
        "score = accuracy_score(y_test, pred)\n",
        "print(\"accuracy:   %0.3f\" % score)\n",
        "cm = confusion_matrix(y_test, pred, labels=['FAKE', 'REAL'])\n",
        "plot_confusion_matrix(cm, classes=['FAKE', 'REAL'])"
      ],
      "execution_count": 0,
      "outputs": [
        {
          "output_type": "stream",
          "text": [
            "accuracy:   0.893\n",
            "Confusion matrix, without normalization\n"
          ],
          "name": "stdout"
        },
        {
          "output_type": "display_data",
          "data": {
            "image/png": "[encoded data removed]",
            "text/plain": [
              "<Figure size 432x288 with 2 Axes>"
            ]
          },
          "metadata": {
            "tags": []
          }
        }
      ]
    },
    {
      "cell_type": "markdown",
      "metadata": {
        "id": "p-PO0ilJZABL",
        "colab_type": "text"
      },
      "source": [
        "# Drawing Confusion Matrix With Passive Agressive Classifier"
      ]
    },
    {
      "cell_type": "code",
      "metadata": {
        "id": "rJGFz7buZABd",
        "colab_type": "code",
        "outputId": "2fc69730-6a58-4044-8bda-1505d70f6967",
        "colab": {
          "base_uri": "https://localhost:8080/",
          "height": 350
        }
      },
      "source": [
        "feature_names = tfidf_vectorizer.get_feature_names()\n",
        "sorted(zip(clf.coef_[0], feature_names), reverse=True)[:20]"
      ],
      "execution_count": 0,
      "outputs": [
        {
          "output_type": "execute_result",
          "data": {
            "text/plain": [
              "[(-4.477148234163137, 'said'),\n",
              " (-4.5936919152219655, 'trump'),\n",
              " (-4.98170150128453, 'clinton'),\n",
              " (-5.455931002028523, 'people'),\n",
              " (-5.482207812723569, 'president'),\n",
              " (-5.511414074572205, 'obama'),\n",
              " (-5.515621480853161, 'state'),\n",
              " (-5.5727798946931095, 'new'),\n",
              " (-5.63452121120962, 'campaign'),\n",
              " (-5.728156816243612, 'republican'),\n",
              " (-5.844483857160232, 'party'),\n",
              " (-5.949002396420198, 'sanders'),\n",
              " (-5.964034477506528, 'states'),\n",
              " (-5.97418288622825, 'time'),\n",
              " (-5.986816295469049, 'just'),\n",
              " (-5.9903983888515535, 'like'),\n",
              " (-6.067024557833956, 'house'),\n",
              " (-6.115534950553315, 'political'),\n",
              " (-6.126896127062493, 'percent'),\n",
              " (-6.172241591175732, 'republicans')]"
            ]
          },
          "metadata": {
            "tags": []
          },
          "execution_count": 29
        }
      ]
    },
    {
      "cell_type": "code",
      "metadata": {
        "id": "PwAOnNZzZABj",
        "colab_type": "code",
        "outputId": "29ebea9b-0b23-423f-fe56-8157ece192eb",
        "colab": {
          "base_uri": "https://localhost:8080/",
          "height": 350
        }
      },
      "source": [
        "sorted(zip(clf.coef_[0], feature_names))[:20]"
      ],
      "execution_count": 0,
      "outputs": [
        {
          "output_type": "execute_result",
          "data": {
            "text/plain": [
              "[(-13.817639290604365, '0000'),\n",
              " (-13.817639290604365, '000035'),\n",
              " (-13.817639290604365, '0001'),\n",
              " (-13.817639290604365, '0001pt'),\n",
              " (-13.817639290604365, '000km'),\n",
              " (-13.817639290604365, '0011'),\n",
              " (-13.817639290604365, '006s'),\n",
              " (-13.817639290604365, '007'),\n",
              " (-13.817639290604365, '007s'),\n",
              " (-13.817639290604365, '008s'),\n",
              " (-13.817639290604365, '0099'),\n",
              " (-13.817639290604365, '00am'),\n",
              " (-13.817639290604365, '00p'),\n",
              " (-13.817639290604365, '00pm'),\n",
              " (-13.817639290604365, '014'),\n",
              " (-13.817639290604365, '015'),\n",
              " (-13.817639290604365, '018'),\n",
              " (-13.817639290604365, '01am'),\n",
              " (-13.817639290604365, '020'),\n",
              " (-13.817639290604365, '023')]"
            ]
          },
          "metadata": {
            "tags": []
          },
          "execution_count": 30
        }
      ]
    },
    {
      "cell_type": "code",
      "metadata": {
        "id": "BmhEqLclZABq",
        "colab_type": "code",
        "outputId": "a96223da-256c-4c96-867a-a14956377b9f",
        "colab": {
          "base_uri": "https://localhost:8080/",
          "height": 33
        }
      },
      "source": [
        "tokens_with_weights = sorted(list(zip(feature_names, clf.coef_[0])))\n",
        "for i in tokens_with_weights:\n",
        "    print(i)\n",
        "    break"
      ],
      "execution_count": 0,
      "outputs": [
        {
          "output_type": "stream",
          "text": [
            "('00', -11.178581960989106)\n"
          ],
          "name": "stdout"
        }
      ]
    }
  ]
}